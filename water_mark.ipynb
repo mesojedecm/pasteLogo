{
 "cells": [
  {
   "cell_type": "code",
   "execution_count": 6,
   "id": "2144b4dc",
   "metadata": {},
   "outputs": [],
   "source": [
    "from PIL import Image\n",
    "import os\n",
    "\n",
    "def main():\n",
    "    # path of the folder containing the raw images\n",
    "    inPath = '/home/Desktop/folder1'\n",
    "  \n",
    "    # path of the folder that will contain the modified image\n",
    "    outPath = '/home/Desktop/folder2'\n",
    "    \n",
    "    logo_path = '/home/Desktop/logo.png'\n",
    "    \n",
    "    im_logo = Image.open(os.path.join(logo_path))\n",
    "    \n",
    "    for imagePath in os.listdir(inPath):\n",
    "        # imagePath contains name of the image \n",
    "        inputPath = os.path.join(inPath, imagePath)\n",
    "  \n",
    "\n",
    "        # inputPath contains the full directory name\n",
    "        img = Image.open(inputPath)\n",
    "  \n",
    "        fullOutPath = os.path.join(outPath, 'vodniZig_'+imagePath)\n",
    "        # fullOutPath contains the path of the output\n",
    "        # image that needs to be generated\n",
    "        img.paste(im_logo, (30, img.height-im_logo.height-30), im_logo)\n",
    "        img.save(fullOutPath)\n",
    "  \n",
    "        #print(fullOutPath)\n",
    "  \n",
    "# Driver Function\n",
    "if __name__ == '__main__':\n",
    "    main()"
   ]
  },
  {
   "cell_type": "code",
   "execution_count": null,
   "id": "ea8e35ba",
   "metadata": {},
   "outputs": [],
   "source": []
  }
 ],
 "metadata": {
  "kernelspec": {
   "display_name": "Python 3 (ipykernel)",
   "language": "python",
   "name": "python3"
  },
  "language_info": {
   "codemirror_mode": {
    "name": "ipython",
    "version": 3
   },
   "file_extension": ".py",
   "mimetype": "text/x-python",
   "name": "python",
   "nbconvert_exporter": "python",
   "pygments_lexer": "ipython3",
   "version": "3.11.1"
  }
 },
 "nbformat": 4,
 "nbformat_minor": 5
}
